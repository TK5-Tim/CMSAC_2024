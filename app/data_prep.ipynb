{
 "cells": [
  {
   "cell_type": "code",
   "execution_count": 1,
   "metadata": {},
   "outputs": [],
   "source": [
    "import pandas as pd\n",
    "import duckdb\n",
    "from pathlib import Path\n",
    "import os\n",
    "from tqdm.notebook import tqdm\n"
   ]
  },
  {
   "cell_type": "code",
   "execution_count": 2,
   "metadata": {},
   "outputs": [],
   "source": [
    "data_dir = Path(\"/Users/timkeller/git_repos/TK5/Data/nfl-big-data-bowl-2023\")"
   ]
  },
  {
   "cell_type": "code",
   "execution_count": 3,
   "metadata": {},
   "outputs": [],
   "source": [
    "con = duckdb.connect(\":memory:\")"
   ]
  },
  {
   "cell_type": "code",
   "execution_count": 10,
   "metadata": {},
   "outputs": [],
   "source": [
    "con.sql(\"\"\"CREATE TABLE tracking (\n",
    "        gameId BIGINT, \n",
    "        playId BIGINT,  \n",
    "        nflId BIGINT,\n",
    "        frameId BIGINT, \n",
    "        time TIMESTAMP, \n",
    "        jerseyNumber BIGINT,\n",
    "        team VARCHAR,\n",
    "        playDirection VARCHAR, \n",
    "        x DOUBLE, \n",
    "        y DOUBLE, \n",
    "        s DOUBLE, \n",
    "        a DOUBLE, \n",
    "        dis DOUBLE, \n",
    "        o DOUBLE,\n",
    "        dir DOUBLE,\n",
    "        event VARCHAR, \n",
    "        week BIGINT\n",
    "        );\"\"\")"
   ]
  },
  {
   "cell_type": "code",
   "execution_count": 14,
   "metadata": {},
   "outputs": [
    {
     "data": {
      "application/vnd.jupyter.widget-view+json": {
       "model_id": "041516025fe5471883b661813c747a9c",
       "version_major": 2,
       "version_minor": 0
      },
      "text/plain": [
       "  0%|          | 0/8 [00:00<?, ?it/s]"
      ]
     },
     "metadata": {},
     "output_type": "display_data"
    }
   ],
   "source": [
    "for i in tqdm(range(1,9)):\n",
    "    con.sql(\"\"\"\n",
    "        CREATE TEMP TABLE wk AS \n",
    "        SELECT \n",
    "        gameId, \n",
    "        playId,  \n",
    "        CASE WHEN nflId = 'NA' THEN NULL ELSE CAST(nflId AS BIGINT) END AS nflId,\n",
    "        frameId, \n",
    "        time, \n",
    "        CASE WHEN jerseyNumber = 'NA' THEN NULL ELSE CAST(jerseyNumber AS BIGINT) END AS jerseyNumber,\n",
    "        team,\n",
    "        playDirection, \n",
    "        x, \n",
    "        y, \n",
    "        s, \n",
    "        a, \n",
    "        dis, \n",
    "        CASE WHEN o = 'NA' THEN NULL ELSE CAST(o AS DOUBLE) END AS o,\n",
    "        CASE WHEN dir = 'NA' THEN NULL ELSE CAST(dir AS DOUBLE) END AS dir,\n",
    "        event, \n",
    "        {} as week\n",
    "        FROM read_csv('{}/week{}.csv')\n",
    "        \"\"\".format(i, str(data_dir), i))\n",
    "    con.sql(\"INSERT INTO tracking SELECT * FROM wk\")\n",
    "    con.sql(\"DROP TABLE wk\")"
   ]
  },
  {
   "cell_type": "code",
   "execution_count": null,
   "metadata": {},
   "outputs": [],
   "source": [
    "# import pandas as pd\n",
    "\n",
    "# weekly_data = pd.DataFrame()\n",
    "\n",
    "# # Standardize Data if you haven't written a file or don't want to \n",
    "# for i in range(1, 10):\n",
    "#     wk = pd.read_csv(f\"tracking_week_{i}.csv\")\n",
    "    \n",
    "#     wk['x'] = wk.apply(lambda row: 120 - row['x'] if row['playDirection'] == 'left' else row['x'], axis=1)\n",
    "#     wk['y'] = wk.apply(lambda row: 160 / 3 - row['y'] if row['playDirection'] == 'left' else row['y'], axis=1)\n",
    "#     wk['dir'] = wk.apply(lambda row: row['dir'] + 180 if row['playDirection'] == 'left' else row['dir'], axis=1)\n",
    "#     wk['dir'] = wk.apply(lambda row: row['dir'] - 360 if row['dir'] > 360 else row['dir'], axis=1)\n",
    "#     wk['o'] = wk.apply(lambda row: row['o'] + 180 if row['playDirection'] == 'left' else row['o'], axis=1)\n",
    "#     wk['o'] = wk.apply(lambda row: row['o'] - 360 if row['o'] > 360 else row['o'], axis=1)\n",
    "#     wk['second'] = wk['frameId'] / 10\n",
    "    \n",
    "#     wk['week'] = i\n",
    "#     weekly_data = pd.concat([weekly_data, wk], ignore_index=True)"
   ]
  },
  {
   "cell_type": "code",
   "execution_count": 15,
   "metadata": {},
   "outputs": [
    {
     "data": {
      "application/vnd.jupyter.widget-view+json": {
       "model_id": "958b364d1c474e1abe49b8d730f3f9a4",
       "version_major": 2,
       "version_minor": 0
      },
      "text/plain": [
       "FloatProgress(value=0.0, layout=Layout(width='auto'), style=ProgressStyle(bar_color='black'))"
      ]
     },
     "metadata": {},
     "output_type": "display_data"
    },
    {
     "data": {
      "text/plain": [
       "<duckdb.duckdb.DuckDBPyConnection at 0x111b24570>"
      ]
     },
     "execution_count": 15,
     "metadata": {},
     "output_type": "execute_result"
    }
   ],
   "source": [
    "con.execute(\"\"\"\n",
    "    CREATE OR REPLACE TABLE tracking_std AS\n",
    "    SELECT *,\n",
    "            CASE WHEN playDirection = 'left' THEN 120 - x ELSE x END AS x,\n",
    "            CASE WHEN playDirection = 'left' THEN 160 / 3 - y ELSE y END AS y,\n",
    "            CASE WHEN playDirection = 'left' THEN dir + 180 ELSE dir END AS dir,\n",
    "            CASE WHEN dir > 360 THEN dir - 360 ELSE dir END AS dir,\n",
    "            CASE WHEN playDirection = 'left' THEN o + 180 ELSE o END AS o,\n",
    "            CASE WHEN o > 360 THEN o - 360 ELSE o END AS o,\n",
    "            frameId / 10 AS second,\n",
    "    FROM tracking\n",
    "\"\"\")"
   ]
  },
  {
   "cell_type": "code",
   "execution_count": null,
   "metadata": {},
   "outputs": [],
   "source": [
    "con."
   ]
  },
  {
   "cell_type": "code",
   "execution_count": 38,
   "metadata": {},
   "outputs": [],
   "source": [
    "con.sql(\"DROP TABLE tracking;\")"
   ]
  },
  {
   "cell_type": "code",
   "execution_count": null,
   "metadata": {},
   "outputs": [],
   "source": []
  },
  {
   "cell_type": "code",
   "execution_count": 16,
   "metadata": {},
   "outputs": [
    {
     "data": {
      "text/plain": [
       "┌───────────────┬─────────────┬─────────┬─────────┬─────────┬─────────┐\n",
       "│  column_name  │ column_type │  null   │   key   │ default │  extra  │\n",
       "│    varchar    │   varchar   │ varchar │ varchar │ varchar │ varchar │\n",
       "├───────────────┼─────────────┼─────────┼─────────┼─────────┼─────────┤\n",
       "│ gameId        │ BIGINT      │ YES     │ NULL    │ NULL    │ NULL    │\n",
       "│ playId        │ BIGINT      │ YES     │ NULL    │ NULL    │ NULL    │\n",
       "│ nflId         │ BIGINT      │ YES     │ NULL    │ NULL    │ NULL    │\n",
       "│ frameId       │ BIGINT      │ YES     │ NULL    │ NULL    │ NULL    │\n",
       "│ time          │ TIMESTAMP   │ YES     │ NULL    │ NULL    │ NULL    │\n",
       "│ jerseyNumber  │ BIGINT      │ YES     │ NULL    │ NULL    │ NULL    │\n",
       "│ team          │ VARCHAR     │ YES     │ NULL    │ NULL    │ NULL    │\n",
       "│ playDirection │ VARCHAR     │ YES     │ NULL    │ NULL    │ NULL    │\n",
       "│ x             │ DOUBLE      │ YES     │ NULL    │ NULL    │ NULL    │\n",
       "│ y             │ DOUBLE      │ YES     │ NULL    │ NULL    │ NULL    │\n",
       "│ ·             │   ·         │  ·      │  ·      │  ·      │  ·      │\n",
       "│ ·             │   ·         │  ·      │  ·      │  ·      │  ·      │\n",
       "│ ·             │   ·         │  ·      │  ·      │  ·      │  ·      │\n",
       "│ dir           │ DOUBLE      │ YES     │ NULL    │ NULL    │ NULL    │\n",
       "│ event         │ VARCHAR     │ YES     │ NULL    │ NULL    │ NULL    │\n",
       "│ week          │ BIGINT      │ YES     │ NULL    │ NULL    │ NULL    │\n",
       "│ x_1           │ DOUBLE      │ YES     │ NULL    │ NULL    │ NULL    │\n",
       "│ y_1           │ DOUBLE      │ YES     │ NULL    │ NULL    │ NULL    │\n",
       "│ dir_1         │ DOUBLE      │ YES     │ NULL    │ NULL    │ NULL    │\n",
       "│ dir_2         │ DOUBLE      │ YES     │ NULL    │ NULL    │ NULL    │\n",
       "│ o_1           │ DOUBLE      │ YES     │ NULL    │ NULL    │ NULL    │\n",
       "│ o_2           │ DOUBLE      │ YES     │ NULL    │ NULL    │ NULL    │\n",
       "│ second        │ DOUBLE      │ YES     │ NULL    │ NULL    │ NULL    │\n",
       "├───────────────┴─────────────┴─────────┴─────────┴─────────┴─────────┤\n",
       "│ 24 rows (20 shown)                                        6 columns │\n",
       "└─────────────────────────────────────────────────────────────────────┘"
      ]
     },
     "execution_count": 16,
     "metadata": {},
     "output_type": "execute_result"
    }
   ],
   "source": [
    "con.sql(\"DESCRIBE tracking_std;\")"
   ]
  },
  {
   "cell_type": "code",
   "execution_count": null,
   "metadata": {},
   "outputs": [],
   "source": []
  },
  {
   "cell_type": "code",
   "execution_count": 28,
   "metadata": {},
   "outputs": [
    {
     "data": {
      "text/html": [
       "<div>\n",
       "<style scoped>\n",
       "    .dataframe tbody tr th:only-of-type {\n",
       "        vertical-align: middle;\n",
       "    }\n",
       "\n",
       "    .dataframe tbody tr th {\n",
       "        vertical-align: top;\n",
       "    }\n",
       "\n",
       "    .dataframe thead th {\n",
       "        text-align: right;\n",
       "    }\n",
       "</style>\n",
       "<table border=\"1\" class=\"dataframe\">\n",
       "  <thead>\n",
       "    <tr style=\"text-align: right;\">\n",
       "      <th></th>\n",
       "      <th>gameId</th>\n",
       "      <th>playId</th>\n",
       "      <th>nflId</th>\n",
       "      <th>frameId</th>\n",
       "      <th>time</th>\n",
       "      <th>jerseyNumber</th>\n",
       "      <th>team</th>\n",
       "      <th>playDirection</th>\n",
       "      <th>x</th>\n",
       "      <th>y</th>\n",
       "      <th>s</th>\n",
       "      <th>a</th>\n",
       "      <th>dis</th>\n",
       "      <th>o</th>\n",
       "      <th>dir</th>\n",
       "      <th>event</th>\n",
       "    </tr>\n",
       "  </thead>\n",
       "  <tbody>\n",
       "    <tr>\n",
       "      <th>0</th>\n",
       "      <td>2021090900</td>\n",
       "      <td>97</td>\n",
       "      <td>25511</td>\n",
       "      <td>1</td>\n",
       "      <td>2021-09-10 00:26:31</td>\n",
       "      <td>12</td>\n",
       "      <td>TB</td>\n",
       "      <td>right</td>\n",
       "      <td>37.77</td>\n",
       "      <td>24.22</td>\n",
       "      <td>0.29</td>\n",
       "      <td>0.30</td>\n",
       "      <td>0.03</td>\n",
       "      <td>165.16</td>\n",
       "      <td>84.99</td>\n",
       "      <td>None</td>\n",
       "    </tr>\n",
       "    <tr>\n",
       "      <th>1</th>\n",
       "      <td>2021090900</td>\n",
       "      <td>97</td>\n",
       "      <td>25511</td>\n",
       "      <td>2</td>\n",
       "      <td>2021-09-10 00:26:31</td>\n",
       "      <td>12</td>\n",
       "      <td>TB</td>\n",
       "      <td>right</td>\n",
       "      <td>37.78</td>\n",
       "      <td>24.22</td>\n",
       "      <td>0.23</td>\n",
       "      <td>0.11</td>\n",
       "      <td>0.02</td>\n",
       "      <td>164.33</td>\n",
       "      <td>92.87</td>\n",
       "      <td>None</td>\n",
       "    </tr>\n",
       "    <tr>\n",
       "      <th>2</th>\n",
       "      <td>2021090900</td>\n",
       "      <td>97</td>\n",
       "      <td>25511</td>\n",
       "      <td>3</td>\n",
       "      <td>2021-09-10 00:26:31</td>\n",
       "      <td>12</td>\n",
       "      <td>TB</td>\n",
       "      <td>right</td>\n",
       "      <td>37.78</td>\n",
       "      <td>24.24</td>\n",
       "      <td>0.16</td>\n",
       "      <td>0.10</td>\n",
       "      <td>0.01</td>\n",
       "      <td>160.24</td>\n",
       "      <td>68.55</td>\n",
       "      <td>None</td>\n",
       "    </tr>\n",
       "    <tr>\n",
       "      <th>3</th>\n",
       "      <td>2021090900</td>\n",
       "      <td>97</td>\n",
       "      <td>25511</td>\n",
       "      <td>4</td>\n",
       "      <td>2021-09-10 00:26:31</td>\n",
       "      <td>12</td>\n",
       "      <td>TB</td>\n",
       "      <td>right</td>\n",
       "      <td>37.73</td>\n",
       "      <td>24.25</td>\n",
       "      <td>0.15</td>\n",
       "      <td>0.24</td>\n",
       "      <td>0.06</td>\n",
       "      <td>152.13</td>\n",
       "      <td>296.85</td>\n",
       "      <td>None</td>\n",
       "    </tr>\n",
       "    <tr>\n",
       "      <th>4</th>\n",
       "      <td>2021090900</td>\n",
       "      <td>97</td>\n",
       "      <td>25511</td>\n",
       "      <td>5</td>\n",
       "      <td>2021-09-10 00:26:31</td>\n",
       "      <td>12</td>\n",
       "      <td>TB</td>\n",
       "      <td>right</td>\n",
       "      <td>37.69</td>\n",
       "      <td>24.26</td>\n",
       "      <td>0.25</td>\n",
       "      <td>0.18</td>\n",
       "      <td>0.04</td>\n",
       "      <td>148.33</td>\n",
       "      <td>287.55</td>\n",
       "      <td>None</td>\n",
       "    </tr>\n",
       "    <tr>\n",
       "      <th>5</th>\n",
       "      <td>2021090900</td>\n",
       "      <td>97</td>\n",
       "      <td>25511</td>\n",
       "      <td>6</td>\n",
       "      <td>2021-09-10 00:26:31</td>\n",
       "      <td>12</td>\n",
       "      <td>TB</td>\n",
       "      <td>right</td>\n",
       "      <td>37.64</td>\n",
       "      <td>24.26</td>\n",
       "      <td>0.35</td>\n",
       "      <td>0.53</td>\n",
       "      <td>0.05</td>\n",
       "      <td>144.42</td>\n",
       "      <td>282.72</td>\n",
       "      <td>ball_snap</td>\n",
       "    </tr>\n",
       "    <tr>\n",
       "      <th>6</th>\n",
       "      <td>2021090900</td>\n",
       "      <td>97</td>\n",
       "      <td>25511</td>\n",
       "      <td>7</td>\n",
       "      <td>2021-09-10 00:26:31</td>\n",
       "      <td>12</td>\n",
       "      <td>TB</td>\n",
       "      <td>right</td>\n",
       "      <td>37.56</td>\n",
       "      <td>24.26</td>\n",
       "      <td>0.54</td>\n",
       "      <td>1.05</td>\n",
       "      <td>0.08</td>\n",
       "      <td>137.49</td>\n",
       "      <td>272.95</td>\n",
       "      <td>None</td>\n",
       "    </tr>\n",
       "    <tr>\n",
       "      <th>7</th>\n",
       "      <td>2021090900</td>\n",
       "      <td>97</td>\n",
       "      <td>25511</td>\n",
       "      <td>8</td>\n",
       "      <td>2021-09-10 00:26:31</td>\n",
       "      <td>12</td>\n",
       "      <td>TB</td>\n",
       "      <td>right</td>\n",
       "      <td>37.47</td>\n",
       "      <td>24.25</td>\n",
       "      <td>0.80</td>\n",
       "      <td>1.85</td>\n",
       "      <td>0.09</td>\n",
       "      <td>131.95</td>\n",
       "      <td>267.49</td>\n",
       "      <td>None</td>\n",
       "    </tr>\n",
       "    <tr>\n",
       "      <th>8</th>\n",
       "      <td>2021090900</td>\n",
       "      <td>97</td>\n",
       "      <td>25511</td>\n",
       "      <td>9</td>\n",
       "      <td>2021-09-10 00:26:31</td>\n",
       "      <td>12</td>\n",
       "      <td>TB</td>\n",
       "      <td>right</td>\n",
       "      <td>37.38</td>\n",
       "      <td>24.24</td>\n",
       "      <td>0.99</td>\n",
       "      <td>2.03</td>\n",
       "      <td>0.09</td>\n",
       "      <td>129.85</td>\n",
       "      <td>263.48</td>\n",
       "      <td>None</td>\n",
       "    </tr>\n",
       "    <tr>\n",
       "      <th>9</th>\n",
       "      <td>2021090900</td>\n",
       "      <td>97</td>\n",
       "      <td>25511</td>\n",
       "      <td>10</td>\n",
       "      <td>2021-09-10 00:26:32</td>\n",
       "      <td>12</td>\n",
       "      <td>TB</td>\n",
       "      <td>right</td>\n",
       "      <td>37.27</td>\n",
       "      <td>24.23</td>\n",
       "      <td>1.19</td>\n",
       "      <td>1.82</td>\n",
       "      <td>0.11</td>\n",
       "      <td>123.79</td>\n",
       "      <td>263.77</td>\n",
       "      <td>None</td>\n",
       "    </tr>\n",
       "  </tbody>\n",
       "</table>\n",
       "</div>"
      ],
      "text/plain": [
       "       gameId  playId  nflId  frameId                time jerseyNumber team  \\\n",
       "0  2021090900      97  25511        1 2021-09-10 00:26:31           12   TB   \n",
       "1  2021090900      97  25511        2 2021-09-10 00:26:31           12   TB   \n",
       "2  2021090900      97  25511        3 2021-09-10 00:26:31           12   TB   \n",
       "3  2021090900      97  25511        4 2021-09-10 00:26:31           12   TB   \n",
       "4  2021090900      97  25511        5 2021-09-10 00:26:31           12   TB   \n",
       "5  2021090900      97  25511        6 2021-09-10 00:26:31           12   TB   \n",
       "6  2021090900      97  25511        7 2021-09-10 00:26:31           12   TB   \n",
       "7  2021090900      97  25511        8 2021-09-10 00:26:31           12   TB   \n",
       "8  2021090900      97  25511        9 2021-09-10 00:26:31           12   TB   \n",
       "9  2021090900      97  25511       10 2021-09-10 00:26:32           12   TB   \n",
       "\n",
       "  playDirection      x      y     s     a   dis       o     dir      event  \n",
       "0         right  37.77  24.22  0.29  0.30  0.03  165.16   84.99       None  \n",
       "1         right  37.78  24.22  0.23  0.11  0.02  164.33   92.87       None  \n",
       "2         right  37.78  24.24  0.16  0.10  0.01  160.24   68.55       None  \n",
       "3         right  37.73  24.25  0.15  0.24  0.06  152.13  296.85       None  \n",
       "4         right  37.69  24.26  0.25  0.18  0.04  148.33  287.55       None  \n",
       "5         right  37.64  24.26  0.35  0.53  0.05  144.42  282.72  ball_snap  \n",
       "6         right  37.56  24.26  0.54  1.05  0.08  137.49  272.95       None  \n",
       "7         right  37.47  24.25  0.80  1.85  0.09  131.95  267.49       None  \n",
       "8         right  37.38  24.24  0.99  2.03  0.09  129.85  263.48       None  \n",
       "9         right  37.27  24.23  1.19  1.82  0.11  123.79  263.77       None  "
      ]
     },
     "execution_count": 28,
     "metadata": {},
     "output_type": "execute_result"
    }
   ],
   "source": [
    "con.sql(\"SELECT * FROM tracking LIMIT 10\").df()"
   ]
  },
  {
   "cell_type": "code",
   "execution_count": 26,
   "metadata": {},
   "outputs": [],
   "source": [
    "con.sql(\"\"\"    \n",
    "        CREATE OR REPLACE TABLE tracking_wk1 AS \n",
    "        SELECT \n",
    "        gameId, \n",
    "        playId,  \n",
    "        CASE WHEN nflId = 'NA' THEN NULL ELSE CAST(nflId AS BIGINT) END AS nflId,\n",
    "        frameId, \n",
    "        time, \n",
    "        CASE WHEN jerseyNumber = 'NA' THEN NULL ELSE CAST(jerseyNumber AS BIGINT) END AS jerseyNumber,\n",
    "        team,\n",
    "        playDirection, \n",
    "        x, \n",
    "        y, \n",
    "        s, \n",
    "        a, \n",
    "        dis, \n",
    "        CASE WHEN o = 'NA' THEN NULL ELSE CAST(o AS DOUBLE) END AS o,\n",
    "        CASE WHEN dir = 'NA' THEN NULL ELSE CAST(dir AS DOUBLE) END AS dir,\n",
    "        event, \n",
    "        1 as week\n",
    "        FROM read_csv('{}/week1.csv')\n",
    "                 \"\"\".format(str(data_dir)))"
   ]
  },
  {
   "cell_type": "code",
   "execution_count": 27,
   "metadata": {},
   "outputs": [],
   "source": [
    "df_wk1 = con.sql(\"SELECT * FROM tracking_wk1\").df()"
   ]
  },
  {
   "cell_type": "code",
   "execution_count": null,
   "metadata": {},
   "outputs": [],
   "source": []
  },
  {
   "cell_type": "code",
   "execution_count": null,
   "metadata": {},
   "outputs": [],
   "source": [
    "CASE WHEN dir > 360 THEN dir - 360 ELSE dir END AS dir,        \n"
   ]
  },
  {
   "cell_type": "code",
   "execution_count": 29,
   "metadata": {},
   "outputs": [],
   "source": [
    "df_wk1_tst = con.sql(\"\"\"\n",
    "        SELECT \n",
    "        gameId, \n",
    "        playId,  \n",
    "        nflId,\n",
    "        frameId, \n",
    "        time, \n",
    "        jerseyNumber,\n",
    "        team,\n",
    "        playDirection, \n",
    "        CASE WHEN playDirection = 'left' THEN 120 - x ELSE x END AS x,\n",
    "        CASE WHEN playDirection = 'left' THEN 160 / 3 - y ELSE y END AS y,\n",
    "        s, \n",
    "        a, \n",
    "        dis, \n",
    "        o,\n",
    "        CASE WHEN playDirection = 'left' THEN dir + 180 WHEN dir > 360 THEN dir - 360 ELSE dir END AS dir,\n",
    "        event, \n",
    "        week\n",
    "        FROM tracking_wk1\n",
    "        \"\"\").df()"
   ]
  },
  {
   "cell_type": "code",
   "execution_count": 31,
   "metadata": {},
   "outputs": [
    {
     "data": {
      "text/plain": [
       "np.float64(540.0)"
      ]
     },
     "execution_count": 31,
     "metadata": {},
     "output_type": "execute_result"
    }
   ],
   "source": [
    "df_wk1_tst['dir'].max()"
   ]
  },
  {
   "cell_type": "code",
   "execution_count": null,
   "metadata": {},
   "outputs": [],
   "source": []
  },
  {
   "cell_type": "code",
   "execution_count": null,
   "metadata": {},
   "outputs": [],
   "source": []
  },
  {
   "cell_type": "code",
   "execution_count": null,
   "metadata": {},
   "outputs": [],
   "source": []
  },
  {
   "cell_type": "code",
   "execution_count": null,
   "metadata": {},
   "outputs": [],
   "source": []
  },
  {
   "cell_type": "code",
   "execution_count": null,
   "metadata": {},
   "outputs": [],
   "source": []
  },
  {
   "cell_type": "code",
   "execution_count": null,
   "metadata": {},
   "outputs": [],
   "source": []
  },
  {
   "cell_type": "code",
   "execution_count": null,
   "metadata": {},
   "outputs": [],
   "source": []
  },
  {
   "cell_type": "code",
   "execution_count": null,
   "metadata": {},
   "outputs": [],
   "source": []
  },
  {
   "cell_type": "code",
   "execution_count": null,
   "metadata": {},
   "outputs": [],
   "source": []
  },
  {
   "cell_type": "code",
   "execution_count": null,
   "metadata": {},
   "outputs": [],
   "source": []
  },
  {
   "cell_type": "code",
   "execution_count": null,
   "metadata": {},
   "outputs": [],
   "source": []
  }
 ],
 "metadata": {
  "kernelspec": {
   "display_name": "base",
   "language": "python",
   "name": "python3"
  },
  "language_info": {
   "codemirror_mode": {
    "name": "ipython",
    "version": 3
   },
   "file_extension": ".py",
   "mimetype": "text/x-python",
   "name": "python",
   "nbconvert_exporter": "python",
   "pygments_lexer": "ipython3",
   "version": "3.10.4"
  }
 },
 "nbformat": 4,
 "nbformat_minor": 2
}
