{
 "cells": [
  {
   "cell_type": "code",
   "execution_count": 1,
   "metadata": {},
   "outputs": [],
   "source": [
    "import pandas as pd\n",
    "from pathlib import Path\n",
    "import os\n",
    "from tqdm.notebook import tqdm"
   ]
  },
  {
   "cell_type": "code",
   "execution_count": 2,
   "metadata": {},
   "outputs": [],
   "source": [
    "data_dir = Path(\"/Users/keltim01/Documents/data/nfl-big-data-bowl-2023\")"
   ]
  },
  {
   "cell_type": "code",
   "execution_count": 4,
   "metadata": {},
   "outputs": [],
   "source": [
    "files = [x for x in os.listdir(data_dir) if x.startswith(\"week\")]"
   ]
  },
  {
   "cell_type": "code",
   "execution_count": 5,
   "metadata": {},
   "outputs": [
    {
     "data": {
      "text/plain": [
       "['week1.csv',\n",
       " 'week2.csv',\n",
       " 'week3.csv',\n",
       " 'week7.csv',\n",
       " 'week6.csv',\n",
       " 'week4.csv',\n",
       " 'week5.csv',\n",
       " 'week8.csv']"
      ]
     },
     "execution_count": 5,
     "metadata": {},
     "output_type": "execute_result"
    }
   ],
   "source": [
    "files"
   ]
  },
  {
   "cell_type": "code",
   "execution_count": 10,
   "metadata": {},
   "outputs": [
    {
     "data": {
      "application/vnd.jupyter.widget-view+json": {
       "model_id": "b8b3ed51008246978bf9c96414af6dad",
       "version_major": 2,
       "version_minor": 0
      },
      "text/plain": [
       "  0%|          | 0/8 [00:00<?, ?it/s]"
      ]
     },
     "metadata": {},
     "output_type": "display_data"
    }
   ],
   "source": [
    "df_weekly_data = pd.DataFrame()\n",
    "\n",
    "# Standardize Data if you haven't written a file or don't want to\n",
    "for file in tqdm(files):\n",
    "    df_wk = pd.read_csv(data_dir.joinpath(file))\n",
    "    \n",
    "    df_wk['x'] = df_wk.apply(lambda row: 120 - row['x'] if row['playDirection'] == 'left' else row['x'], axis=1)\n",
    "    df_wk['y'] = df_wk.apply(lambda row: 160 / 3 - row['y'] if row['playDirection'] == 'left' else row['y'], axis=1)\n",
    "    df_wk['dir'] = df_wk.apply(lambda row: row['dir'] + 180 if row['playDirection'] == 'left' else row['dir'], axis=1)\n",
    "    df_wk['dir'] = df_wk.apply(lambda row: row['dir'] - 360 if row['dir'] > 360 else row['dir'], axis=1)\n",
    "    df_wk['o'] = df_wk.apply(lambda row: row['o'] + 180 if row['playDirection'] == 'left' else row['o'], axis=1)\n",
    "    df_wk['o'] = df_wk.apply(lambda row: row['o'] - 360 if row['o'] > 360 else row['o'], axis=1)\n",
    "    df_wk['second'] = df_wk['frameId'] / 10\n",
    "    \n",
    "    df_wk['week'] = int(file.split(\".\")[0][-1])\n",
    "    df_weekly_data = pd.concat([df_weekly_data, df_wk], ignore_index=True)\n"
   ]
  },
  {
   "cell_type": "code",
   "execution_count": 14,
   "metadata": {},
   "outputs": [],
   "source": [
    "os.makedirs(data_dir.joinpath(\"standardized\"), exist_ok=True)\n",
    "df_weekly_data.to_parquet(data_dir.joinpath(\"standardized\",\"all_weeks.parquet\"), index=False)"
   ]
  },
  {
   "cell_type": "code",
   "execution_count": null,
   "metadata": {},
   "outputs": [],
   "source": []
  }
 ],
 "metadata": {
  "kernelspec": {
   "display_name": "venv",
   "language": "python",
   "name": "python3"
  },
  "language_info": {
   "codemirror_mode": {
    "name": "ipython",
    "version": 3
   },
   "file_extension": ".py",
   "mimetype": "text/x-python",
   "name": "python",
   "nbconvert_exporter": "python",
   "pygments_lexer": "ipython3",
   "version": "3.11.6"
  }
 },
 "nbformat": 4,
 "nbformat_minor": 2
}
